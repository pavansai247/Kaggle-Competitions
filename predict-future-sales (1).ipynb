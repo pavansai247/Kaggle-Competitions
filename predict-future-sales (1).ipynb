{
 "cells": [
  {
   "cell_type": "code",
   "execution_count": 2,
   "metadata": {
    "_cell_guid": "b1076dfc-b9ad-4769-8c92-a6c4dae69d19",
    "_uuid": "8f2839f25d086af736a60e9eeb907d3b93b6e0e5",
    "execution": {
     "iopub.execute_input": "2022-09-21T09:07:58.579343Z",
     "iopub.status.busy": "2022-09-21T09:07:58.578910Z",
     "iopub.status.idle": "2022-09-21T09:07:58.587689Z",
     "shell.execute_reply": "2022-09-21T09:07:58.586394Z",
     "shell.execute_reply.started": "2022-09-21T09:07:58.579306Z"
    }
   },
   "outputs": [
    {
     "name": "stdout",
     "output_type": "stream",
     "text": [
      "/kaggle/input/competitive-data-science-predict-future-sales/items.csv\n",
      "/kaggle/input/competitive-data-science-predict-future-sales/sample_submission.csv\n",
      "/kaggle/input/competitive-data-science-predict-future-sales/item_categories.csv\n",
      "/kaggle/input/competitive-data-science-predict-future-sales/sales_train.csv\n",
      "/kaggle/input/competitive-data-science-predict-future-sales/shops.csv\n",
      "/kaggle/input/competitive-data-science-predict-future-sales/test.csv\n"
     ]
    }
   ],
   "source": [
    "# This Python 3 environment comes with many helpful analytics libraries installed\n",
    "# It is defined by the kaggle/python Docker image: https://github.com/kaggle/docker-python\n",
    "# For example, here's several helpful packages to load\n",
    "\n",
    "import numpy as np # linear algebra\n",
    "import pandas as pd # data processing, CSV file I/O (e.g. pd.read_csv)\n",
    "\n",
    "# Input data files are available in the read-only \"../input/\" directory\n",
    "# For example, running this (by clicking run or pressing Shift+Enter) will list all files under the input directory\n",
    "\n",
    "import os\n",
    "for dirname, _, filenames in os.walk('/kaggle/input'):\n",
    "    for filename in filenames:\n",
    "        print(os.path.join(dirname, filename))\n",
    "\n",
    "# You can write up to 20GB to the current directory (/kaggle/working/) that gets preserved as output when you create a version using \"Save & Run All\" \n",
    "# You can also write temporary files to /kaggle/temp/, but they won't be saved outside of the current session"
   ]
  },
  {
   "cell_type": "markdown",
   "metadata": {},
   "source": [
    "**Import Libriries**"
   ]
  },
  {
   "cell_type": "code",
   "execution_count": 3,
   "metadata": {
    "execution": {
     "iopub.execute_input": "2022-09-21T09:07:58.593047Z",
     "iopub.status.busy": "2022-09-21T09:07:58.592633Z",
     "iopub.status.idle": "2022-09-21T09:07:58.756411Z",
     "shell.execute_reply": "2022-09-21T09:07:58.755301Z",
     "shell.execute_reply.started": "2022-09-21T09:07:58.593014Z"
    }
   },
   "outputs": [],
   "source": [
    "import numpy as np \n",
    "import pandas as pd\n",
    "import seaborn as sns\n",
    "import matplotlib.pyplot as plt"
   ]
  },
  {
   "cell_type": "markdown",
   "metadata": {},
   "source": [
    "**Loading Datasets**"
   ]
  },
  {
   "cell_type": "code",
   "execution_count": 4,
   "metadata": {
    "execution": {
     "iopub.execute_input": "2022-09-21T09:07:58.758520Z",
     "iopub.status.busy": "2022-09-21T09:07:58.758202Z",
     "iopub.status.idle": "2022-09-21T09:07:58.788671Z",
     "shell.execute_reply": "2022-09-21T09:07:58.787579Z",
     "shell.execute_reply.started": "2022-09-21T09:07:58.758491Z"
    }
   },
   "outputs": [
    {
     "data": {
      "text/html": [
       "<div>\n",
       "<style scoped>\n",
       "    .dataframe tbody tr th:only-of-type {\n",
       "        vertical-align: middle;\n",
       "    }\n",
       "\n",
       "    .dataframe tbody tr th {\n",
       "        vertical-align: top;\n",
       "    }\n",
       "\n",
       "    .dataframe thead th {\n",
       "        text-align: right;\n",
       "    }\n",
       "</style>\n",
       "<table border=\"1\" class=\"dataframe\">\n",
       "  <thead>\n",
       "    <tr style=\"text-align: right;\">\n",
       "      <th></th>\n",
       "      <th>item_category_name</th>\n",
       "      <th>item_category_id</th>\n",
       "    </tr>\n",
       "  </thead>\n",
       "  <tbody>\n",
       "    <tr>\n",
       "      <th>0</th>\n",
       "      <td>PC - Гарнитуры/Наушники</td>\n",
       "      <td>0</td>\n",
       "    </tr>\n",
       "    <tr>\n",
       "      <th>1</th>\n",
       "      <td>Аксессуары - PS2</td>\n",
       "      <td>1</td>\n",
       "    </tr>\n",
       "    <tr>\n",
       "      <th>2</th>\n",
       "      <td>Аксессуары - PS3</td>\n",
       "      <td>2</td>\n",
       "    </tr>\n",
       "    <tr>\n",
       "      <th>3</th>\n",
       "      <td>Аксессуары - PS4</td>\n",
       "      <td>3</td>\n",
       "    </tr>\n",
       "    <tr>\n",
       "      <th>4</th>\n",
       "      <td>Аксессуары - PSP</td>\n",
       "      <td>4</td>\n",
       "    </tr>\n",
       "  </tbody>\n",
       "</table>\n",
       "</div>"
      ],
      "text/plain": [
       "        item_category_name  item_category_id\n",
       "0  PC - Гарнитуры/Наушники                 0\n",
       "1         Аксессуары - PS2                 1\n",
       "2         Аксессуары - PS3                 2\n",
       "3         Аксессуары - PS4                 3\n",
       "4         Аксессуары - PSP                 4"
      ]
     },
     "execution_count": 4,
     "metadata": {},
     "output_type": "execute_result"
    }
   ],
   "source": [
    "d_item_cat = pd.read_csv(\"/kaggle/input/competitive-data-science-predict-future-sales/item_categories.csv\")\n",
    "d_item_cat.head()"
   ]
  },
  {
   "cell_type": "code",
   "execution_count": 5,
   "metadata": {
    "execution": {
     "iopub.execute_input": "2022-09-21T09:07:58.790368Z",
     "iopub.status.busy": "2022-09-21T09:07:58.790043Z",
     "iopub.status.idle": "2022-09-21T09:07:58.876677Z",
     "shell.execute_reply": "2022-09-21T09:07:58.875624Z",
     "shell.execute_reply.started": "2022-09-21T09:07:58.790339Z"
    }
   },
   "outputs": [
    {
     "data": {
      "text/html": [
       "<div>\n",
       "<style scoped>\n",
       "    .dataframe tbody tr th:only-of-type {\n",
       "        vertical-align: middle;\n",
       "    }\n",
       "\n",
       "    .dataframe tbody tr th {\n",
       "        vertical-align: top;\n",
       "    }\n",
       "\n",
       "    .dataframe thead th {\n",
       "        text-align: right;\n",
       "    }\n",
       "</style>\n",
       "<table border=\"1\" class=\"dataframe\">\n",
       "  <thead>\n",
       "    <tr style=\"text-align: right;\">\n",
       "      <th></th>\n",
       "      <th>item_name</th>\n",
       "      <th>item_id</th>\n",
       "      <th>item_category_id</th>\n",
       "    </tr>\n",
       "  </thead>\n",
       "  <tbody>\n",
       "    <tr>\n",
       "      <th>0</th>\n",
       "      <td>! ВО ВЛАСТИ НАВАЖДЕНИЯ (ПЛАСТ.)         D</td>\n",
       "      <td>0</td>\n",
       "      <td>40</td>\n",
       "    </tr>\n",
       "    <tr>\n",
       "      <th>1</th>\n",
       "      <td>!ABBYY FineReader 12 Professional Edition Full...</td>\n",
       "      <td>1</td>\n",
       "      <td>76</td>\n",
       "    </tr>\n",
       "    <tr>\n",
       "      <th>2</th>\n",
       "      <td>***В ЛУЧАХ СЛАВЫ   (UNV)                    D</td>\n",
       "      <td>2</td>\n",
       "      <td>40</td>\n",
       "    </tr>\n",
       "    <tr>\n",
       "      <th>3</th>\n",
       "      <td>***ГОЛУБАЯ ВОЛНА  (Univ)                      D</td>\n",
       "      <td>3</td>\n",
       "      <td>40</td>\n",
       "    </tr>\n",
       "    <tr>\n",
       "      <th>4</th>\n",
       "      <td>***КОРОБКА (СТЕКЛО)                       D</td>\n",
       "      <td>4</td>\n",
       "      <td>40</td>\n",
       "    </tr>\n",
       "  </tbody>\n",
       "</table>\n",
       "</div>"
      ],
      "text/plain": [
       "                                           item_name  item_id  \\\n",
       "0          ! ВО ВЛАСТИ НАВАЖДЕНИЯ (ПЛАСТ.)         D        0   \n",
       "1  !ABBYY FineReader 12 Professional Edition Full...        1   \n",
       "2      ***В ЛУЧАХ СЛАВЫ   (UNV)                    D        2   \n",
       "3    ***ГОЛУБАЯ ВОЛНА  (Univ)                      D        3   \n",
       "4        ***КОРОБКА (СТЕКЛО)                       D        4   \n",
       "\n",
       "   item_category_id  \n",
       "0                40  \n",
       "1                76  \n",
       "2                40  \n",
       "3                40  \n",
       "4                40  "
      ]
     },
     "execution_count": 5,
     "metadata": {},
     "output_type": "execute_result"
    }
   ],
   "source": [
    "d_items = pd.read_csv(\"/kaggle/input/competitive-data-science-predict-future-sales/items.csv\")\n",
    "d_items.head()"
   ]
  },
  {
   "cell_type": "code",
   "execution_count": 6,
   "metadata": {
    "execution": {
     "iopub.execute_input": "2022-09-21T09:07:58.879353Z",
     "iopub.status.busy": "2022-09-21T09:07:58.879017Z",
     "iopub.status.idle": "2022-09-21T09:07:58.964105Z",
     "shell.execute_reply": "2022-09-21T09:07:58.962952Z",
     "shell.execute_reply.started": "2022-09-21T09:07:58.879324Z"
    }
   },
   "outputs": [
    {
     "data": {
      "text/html": [
       "<div>\n",
       "<style scoped>\n",
       "    .dataframe tbody tr th:only-of-type {\n",
       "        vertical-align: middle;\n",
       "    }\n",
       "\n",
       "    .dataframe tbody tr th {\n",
       "        vertical-align: top;\n",
       "    }\n",
       "\n",
       "    .dataframe thead th {\n",
       "        text-align: right;\n",
       "    }\n",
       "</style>\n",
       "<table border=\"1\" class=\"dataframe\">\n",
       "  <thead>\n",
       "    <tr style=\"text-align: right;\">\n",
       "      <th></th>\n",
       "      <th>ID</th>\n",
       "      <th>item_cnt_month</th>\n",
       "    </tr>\n",
       "  </thead>\n",
       "  <tbody>\n",
       "    <tr>\n",
       "      <th>0</th>\n",
       "      <td>0</td>\n",
       "      <td>0.5</td>\n",
       "    </tr>\n",
       "    <tr>\n",
       "      <th>1</th>\n",
       "      <td>1</td>\n",
       "      <td>0.5</td>\n",
       "    </tr>\n",
       "    <tr>\n",
       "      <th>2</th>\n",
       "      <td>2</td>\n",
       "      <td>0.5</td>\n",
       "    </tr>\n",
       "    <tr>\n",
       "      <th>3</th>\n",
       "      <td>3</td>\n",
       "      <td>0.5</td>\n",
       "    </tr>\n",
       "    <tr>\n",
       "      <th>4</th>\n",
       "      <td>4</td>\n",
       "      <td>0.5</td>\n",
       "    </tr>\n",
       "  </tbody>\n",
       "</table>\n",
       "</div>"
      ],
      "text/plain": [
       "   ID  item_cnt_month\n",
       "0   0             0.5\n",
       "1   1             0.5\n",
       "2   2             0.5\n",
       "3   3             0.5\n",
       "4   4             0.5"
      ]
     },
     "execution_count": 6,
     "metadata": {},
     "output_type": "execute_result"
    }
   ],
   "source": [
    "d_sam_sub = pd.read_csv(\"/kaggle/input/competitive-data-science-predict-future-sales/sample_submission.csv\")\n",
    "d_sam_sub.head()"
   ]
  },
  {
   "cell_type": "code",
   "execution_count": 7,
   "metadata": {
    "execution": {
     "iopub.execute_input": "2022-09-21T09:07:58.965697Z",
     "iopub.status.busy": "2022-09-21T09:07:58.965300Z",
     "iopub.status.idle": "2022-09-21T09:08:01.612270Z",
     "shell.execute_reply": "2022-09-21T09:08:01.611270Z",
     "shell.execute_reply.started": "2022-09-21T09:07:58.965668Z"
    }
   },
   "outputs": [
    {
     "data": {
      "text/html": [
       "<div>\n",
       "<style scoped>\n",
       "    .dataframe tbody tr th:only-of-type {\n",
       "        vertical-align: middle;\n",
       "    }\n",
       "\n",
       "    .dataframe tbody tr th {\n",
       "        vertical-align: top;\n",
       "    }\n",
       "\n",
       "    .dataframe thead th {\n",
       "        text-align: right;\n",
       "    }\n",
       "</style>\n",
       "<table border=\"1\" class=\"dataframe\">\n",
       "  <thead>\n",
       "    <tr style=\"text-align: right;\">\n",
       "      <th></th>\n",
       "      <th>date</th>\n",
       "      <th>date_block_num</th>\n",
       "      <th>shop_id</th>\n",
       "      <th>item_id</th>\n",
       "      <th>item_price</th>\n",
       "      <th>item_cnt_day</th>\n",
       "    </tr>\n",
       "  </thead>\n",
       "  <tbody>\n",
       "    <tr>\n",
       "      <th>0</th>\n",
       "      <td>02.01.2013</td>\n",
       "      <td>0</td>\n",
       "      <td>59</td>\n",
       "      <td>22154</td>\n",
       "      <td>999.00</td>\n",
       "      <td>1.0</td>\n",
       "    </tr>\n",
       "    <tr>\n",
       "      <th>1</th>\n",
       "      <td>03.01.2013</td>\n",
       "      <td>0</td>\n",
       "      <td>25</td>\n",
       "      <td>2552</td>\n",
       "      <td>899.00</td>\n",
       "      <td>1.0</td>\n",
       "    </tr>\n",
       "    <tr>\n",
       "      <th>2</th>\n",
       "      <td>05.01.2013</td>\n",
       "      <td>0</td>\n",
       "      <td>25</td>\n",
       "      <td>2552</td>\n",
       "      <td>899.00</td>\n",
       "      <td>-1.0</td>\n",
       "    </tr>\n",
       "    <tr>\n",
       "      <th>3</th>\n",
       "      <td>06.01.2013</td>\n",
       "      <td>0</td>\n",
       "      <td>25</td>\n",
       "      <td>2554</td>\n",
       "      <td>1709.05</td>\n",
       "      <td>1.0</td>\n",
       "    </tr>\n",
       "    <tr>\n",
       "      <th>4</th>\n",
       "      <td>15.01.2013</td>\n",
       "      <td>0</td>\n",
       "      <td>25</td>\n",
       "      <td>2555</td>\n",
       "      <td>1099.00</td>\n",
       "      <td>1.0</td>\n",
       "    </tr>\n",
       "  </tbody>\n",
       "</table>\n",
       "</div>"
      ],
      "text/plain": [
       "         date  date_block_num  shop_id  item_id  item_price  item_cnt_day\n",
       "0  02.01.2013               0       59    22154      999.00           1.0\n",
       "1  03.01.2013               0       25     2552      899.00           1.0\n",
       "2  05.01.2013               0       25     2552      899.00          -1.0\n",
       "3  06.01.2013               0       25     2554     1709.05           1.0\n",
       "4  15.01.2013               0       25     2555     1099.00           1.0"
      ]
     },
     "execution_count": 7,
     "metadata": {},
     "output_type": "execute_result"
    }
   ],
   "source": [
    "d_sal_tra = pd.read_csv(\"/kaggle/input/competitive-data-science-predict-future-sales/sales_train.csv\") \n",
    "d_sal_tra.head()"
   ]
  },
  {
   "cell_type": "code",
   "execution_count": 8,
   "metadata": {
    "execution": {
     "iopub.execute_input": "2022-09-21T09:08:01.613942Z",
     "iopub.status.busy": "2022-09-21T09:08:01.613625Z",
     "iopub.status.idle": "2022-09-21T09:08:01.630325Z",
     "shell.execute_reply": "2022-09-21T09:08:01.629266Z",
     "shell.execute_reply.started": "2022-09-21T09:08:01.613915Z"
    }
   },
   "outputs": [
    {
     "data": {
      "text/html": [
       "<div>\n",
       "<style scoped>\n",
       "    .dataframe tbody tr th:only-of-type {\n",
       "        vertical-align: middle;\n",
       "    }\n",
       "\n",
       "    .dataframe tbody tr th {\n",
       "        vertical-align: top;\n",
       "    }\n",
       "\n",
       "    .dataframe thead th {\n",
       "        text-align: right;\n",
       "    }\n",
       "</style>\n",
       "<table border=\"1\" class=\"dataframe\">\n",
       "  <thead>\n",
       "    <tr style=\"text-align: right;\">\n",
       "      <th></th>\n",
       "      <th>shop_name</th>\n",
       "      <th>shop_id</th>\n",
       "    </tr>\n",
       "  </thead>\n",
       "  <tbody>\n",
       "    <tr>\n",
       "      <th>0</th>\n",
       "      <td>!Якутск Орджоникидзе, 56 фран</td>\n",
       "      <td>0</td>\n",
       "    </tr>\n",
       "    <tr>\n",
       "      <th>1</th>\n",
       "      <td>!Якутск ТЦ \"Центральный\" фран</td>\n",
       "      <td>1</td>\n",
       "    </tr>\n",
       "    <tr>\n",
       "      <th>2</th>\n",
       "      <td>Адыгея ТЦ \"Мега\"</td>\n",
       "      <td>2</td>\n",
       "    </tr>\n",
       "    <tr>\n",
       "      <th>3</th>\n",
       "      <td>Балашиха ТРК \"Октябрь-Киномир\"</td>\n",
       "      <td>3</td>\n",
       "    </tr>\n",
       "    <tr>\n",
       "      <th>4</th>\n",
       "      <td>Волжский ТЦ \"Волга Молл\"</td>\n",
       "      <td>4</td>\n",
       "    </tr>\n",
       "  </tbody>\n",
       "</table>\n",
       "</div>"
      ],
      "text/plain": [
       "                        shop_name  shop_id\n",
       "0   !Якутск Орджоникидзе, 56 фран        0\n",
       "1   !Якутск ТЦ \"Центральный\" фран        1\n",
       "2                Адыгея ТЦ \"Мега\"        2\n",
       "3  Балашиха ТРК \"Октябрь-Киномир\"        3\n",
       "4        Волжский ТЦ \"Волга Молл\"        4"
      ]
     },
     "execution_count": 8,
     "metadata": {},
     "output_type": "execute_result"
    }
   ],
   "source": [
    "d_shop = pd.read_csv(\"/kaggle/input/competitive-data-science-predict-future-sales/shops.csv\")\n",
    "d_shop.head()"
   ]
  },
  {
   "cell_type": "code",
   "execution_count": 9,
   "metadata": {
    "execution": {
     "iopub.execute_input": "2022-09-21T09:08:01.632220Z",
     "iopub.status.busy": "2022-09-21T09:08:01.631923Z",
     "iopub.status.idle": "2022-09-21T09:08:01.767499Z",
     "shell.execute_reply": "2022-09-21T09:08:01.766723Z",
     "shell.execute_reply.started": "2022-09-21T09:08:01.632194Z"
    }
   },
   "outputs": [
    {
     "data": {
      "text/html": [
       "<div>\n",
       "<style scoped>\n",
       "    .dataframe tbody tr th:only-of-type {\n",
       "        vertical-align: middle;\n",
       "    }\n",
       "\n",
       "    .dataframe tbody tr th {\n",
       "        vertical-align: top;\n",
       "    }\n",
       "\n",
       "    .dataframe thead th {\n",
       "        text-align: right;\n",
       "    }\n",
       "</style>\n",
       "<table border=\"1\" class=\"dataframe\">\n",
       "  <thead>\n",
       "    <tr style=\"text-align: right;\">\n",
       "      <th></th>\n",
       "      <th>ID</th>\n",
       "      <th>shop_id</th>\n",
       "      <th>item_id</th>\n",
       "    </tr>\n",
       "  </thead>\n",
       "  <tbody>\n",
       "    <tr>\n",
       "      <th>0</th>\n",
       "      <td>0</td>\n",
       "      <td>5</td>\n",
       "      <td>5037</td>\n",
       "    </tr>\n",
       "    <tr>\n",
       "      <th>1</th>\n",
       "      <td>1</td>\n",
       "      <td>5</td>\n",
       "      <td>5320</td>\n",
       "    </tr>\n",
       "    <tr>\n",
       "      <th>2</th>\n",
       "      <td>2</td>\n",
       "      <td>5</td>\n",
       "      <td>5233</td>\n",
       "    </tr>\n",
       "    <tr>\n",
       "      <th>3</th>\n",
       "      <td>3</td>\n",
       "      <td>5</td>\n",
       "      <td>5232</td>\n",
       "    </tr>\n",
       "    <tr>\n",
       "      <th>4</th>\n",
       "      <td>4</td>\n",
       "      <td>5</td>\n",
       "      <td>5268</td>\n",
       "    </tr>\n",
       "  </tbody>\n",
       "</table>\n",
       "</div>"
      ],
      "text/plain": [
       "   ID  shop_id  item_id\n",
       "0   0        5     5037\n",
       "1   1        5     5320\n",
       "2   2        5     5233\n",
       "3   3        5     5232\n",
       "4   4        5     5268"
      ]
     },
     "execution_count": 9,
     "metadata": {},
     "output_type": "execute_result"
    }
   ],
   "source": [
    "d_test = pd.read_csv(\"/kaggle/input/competitive-data-science-predict-future-sales/test.csv\")\n",
    "d_test.head()"
   ]
  },
  {
   "cell_type": "code",
   "execution_count": 47,
   "metadata": {
    "execution": {
     "iopub.execute_input": "2022-09-21T09:56:24.245924Z",
     "iopub.status.busy": "2022-09-21T09:56:24.244846Z",
     "iopub.status.idle": "2022-09-21T09:56:24.260733Z",
     "shell.execute_reply": "2022-09-21T09:56:24.259641Z",
     "shell.execute_reply.started": "2022-09-21T09:56:24.245882Z"
    }
   },
   "outputs": [
    {
     "data": {
      "text/html": [
       "<div>\n",
       "<style scoped>\n",
       "    .dataframe tbody tr th:only-of-type {\n",
       "        vertical-align: middle;\n",
       "    }\n",
       "\n",
       "    .dataframe tbody tr th {\n",
       "        vertical-align: top;\n",
       "    }\n",
       "\n",
       "    .dataframe thead th {\n",
       "        text-align: right;\n",
       "    }\n",
       "</style>\n",
       "<table border=\"1\" class=\"dataframe\">\n",
       "  <thead>\n",
       "    <tr style=\"text-align: right;\">\n",
       "      <th></th>\n",
       "      <th>shop_id</th>\n",
       "      <th>item_id</th>\n",
       "    </tr>\n",
       "  </thead>\n",
       "  <tbody>\n",
       "    <tr>\n",
       "      <th>0</th>\n",
       "      <td>5</td>\n",
       "      <td>5037</td>\n",
       "    </tr>\n",
       "    <tr>\n",
       "      <th>1</th>\n",
       "      <td>5</td>\n",
       "      <td>5320</td>\n",
       "    </tr>\n",
       "    <tr>\n",
       "      <th>2</th>\n",
       "      <td>5</td>\n",
       "      <td>5233</td>\n",
       "    </tr>\n",
       "    <tr>\n",
       "      <th>3</th>\n",
       "      <td>5</td>\n",
       "      <td>5232</td>\n",
       "    </tr>\n",
       "    <tr>\n",
       "      <th>4</th>\n",
       "      <td>5</td>\n",
       "      <td>5268</td>\n",
       "    </tr>\n",
       "    <tr>\n",
       "      <th>...</th>\n",
       "      <td>...</td>\n",
       "      <td>...</td>\n",
       "    </tr>\n",
       "    <tr>\n",
       "      <th>214195</th>\n",
       "      <td>45</td>\n",
       "      <td>18454</td>\n",
       "    </tr>\n",
       "    <tr>\n",
       "      <th>214196</th>\n",
       "      <td>45</td>\n",
       "      <td>16188</td>\n",
       "    </tr>\n",
       "    <tr>\n",
       "      <th>214197</th>\n",
       "      <td>45</td>\n",
       "      <td>15757</td>\n",
       "    </tr>\n",
       "    <tr>\n",
       "      <th>214198</th>\n",
       "      <td>45</td>\n",
       "      <td>19648</td>\n",
       "    </tr>\n",
       "    <tr>\n",
       "      <th>214199</th>\n",
       "      <td>45</td>\n",
       "      <td>969</td>\n",
       "    </tr>\n",
       "  </tbody>\n",
       "</table>\n",
       "<p>214200 rows × 2 columns</p>\n",
       "</div>"
      ],
      "text/plain": [
       "        shop_id  item_id\n",
       "0             5     5037\n",
       "1             5     5320\n",
       "2             5     5233\n",
       "3             5     5232\n",
       "4             5     5268\n",
       "...         ...      ...\n",
       "214195       45    18454\n",
       "214196       45    16188\n",
       "214197       45    15757\n",
       "214198       45    19648\n",
       "214199       45      969\n",
       "\n",
       "[214200 rows x 2 columns]"
      ]
     },
     "execution_count": 47,
     "metadata": {},
     "output_type": "execute_result"
    }
   ],
   "source": [
    "dt_test = d_test.drop(labels = \"ID\",axis = 1)\n",
    "dt_test"
   ]
  },
  {
   "cell_type": "markdown",
   "metadata": {},
   "source": [
    "**Check The Null Values** "
   ]
  },
  {
   "cell_type": "code",
   "execution_count": 10,
   "metadata": {
    "execution": {
     "iopub.execute_input": "2022-09-21T09:08:01.769250Z",
     "iopub.status.busy": "2022-09-21T09:08:01.768634Z",
     "iopub.status.idle": "2022-09-21T09:08:01.929547Z",
     "shell.execute_reply": "2022-09-21T09:08:01.928431Z",
     "shell.execute_reply.started": "2022-09-21T09:08:01.769218Z"
    }
   },
   "outputs": [
    {
     "name": "stdout",
     "output_type": "stream",
     "text": [
      "items categorical null values 0\n",
      "items  null values 0\n",
      "sales train null values 0\n",
      "test data null values 0\n"
     ]
    }
   ],
   "source": [
    "print(\"items categorical null values\",d_item_cat.isnull().sum().sum())\n",
    "print(\"items  null values\",d_items.isnull().sum().sum())\n",
    "print(\"sales train null values\",d_sal_tra.isnull().sum().sum())\n",
    "print(\"test data null values\",d_test.isnull().sum().sum())"
   ]
  },
  {
   "cell_type": "markdown",
   "metadata": {},
   "source": [
    "**Check The Unique Values**"
   ]
  },
  {
   "cell_type": "code",
   "execution_count": 11,
   "metadata": {
    "execution": {
     "iopub.execute_input": "2022-09-21T09:08:01.931287Z",
     "iopub.status.busy": "2022-09-21T09:08:01.930954Z",
     "iopub.status.idle": "2022-09-21T09:08:02.311340Z",
     "shell.execute_reply": "2022-09-21T09:08:02.310257Z",
     "shell.execute_reply.started": "2022-09-21T09:08:01.931258Z"
    }
   },
   "outputs": [
    {
     "name": "stdout",
     "output_type": "stream",
     "text": [
      "items categorical unique values item_category_name    84\n",
      "item_category_id      84\n",
      "dtype: int64\n",
      "items  unique values item_name           22170\n",
      "item_id             22170\n",
      "item_category_id       84\n",
      "dtype: int64\n",
      "sales train unique values date               1034\n",
      "date_block_num       34\n",
      "shop_id              60\n",
      "item_id           21807\n",
      "item_price        19993\n",
      "item_cnt_day        198\n",
      "dtype: int64\n",
      "test data unique values ID         214200\n",
      "shop_id        42\n",
      "item_id      5100\n",
      "dtype: int64\n"
     ]
    }
   ],
   "source": [
    "print(\"items categorical unique values\",d_item_cat.nunique())\n",
    "print(\"items  unique values\",d_items.nunique())\n",
    "print(\"sales train unique values\",d_sal_tra.nunique())\n",
    "print(\"test data unique values\",d_test.nunique())"
   ]
  },
  {
   "cell_type": "markdown",
   "metadata": {},
   "source": [
    "**Mearge The Data**"
   ]
  },
  {
   "cell_type": "code",
   "execution_count": 12,
   "metadata": {
    "execution": {
     "iopub.execute_input": "2022-09-21T09:08:02.314442Z",
     "iopub.status.busy": "2022-09-21T09:08:02.314104Z",
     "iopub.status.idle": "2022-09-21T09:08:02.391305Z",
     "shell.execute_reply": "2022-09-21T09:08:02.390138Z",
     "shell.execute_reply.started": "2022-09-21T09:08:02.314412Z"
    }
   },
   "outputs": [
    {
     "data": {
      "text/html": [
       "<div>\n",
       "<style scoped>\n",
       "    .dataframe tbody tr th:only-of-type {\n",
       "        vertical-align: middle;\n",
       "    }\n",
       "\n",
       "    .dataframe tbody tr th {\n",
       "        vertical-align: top;\n",
       "    }\n",
       "\n",
       "    .dataframe thead th {\n",
       "        text-align: right;\n",
       "    }\n",
       "</style>\n",
       "<table border=\"1\" class=\"dataframe\">\n",
       "  <thead>\n",
       "    <tr style=\"text-align: right;\">\n",
       "      <th></th>\n",
       "      <th>date</th>\n",
       "      <th>date_block_num</th>\n",
       "      <th>shop_id</th>\n",
       "      <th>item_id</th>\n",
       "      <th>item_price</th>\n",
       "      <th>item_cnt_day</th>\n",
       "    </tr>\n",
       "  </thead>\n",
       "  <tbody>\n",
       "    <tr>\n",
       "      <th>0</th>\n",
       "      <td>02.01.2013</td>\n",
       "      <td>0</td>\n",
       "      <td>59</td>\n",
       "      <td>22154</td>\n",
       "      <td>999.00</td>\n",
       "      <td>1.0</td>\n",
       "    </tr>\n",
       "    <tr>\n",
       "      <th>1</th>\n",
       "      <td>03.01.2013</td>\n",
       "      <td>0</td>\n",
       "      <td>25</td>\n",
       "      <td>2552</td>\n",
       "      <td>899.00</td>\n",
       "      <td>1.0</td>\n",
       "    </tr>\n",
       "    <tr>\n",
       "      <th>2</th>\n",
       "      <td>05.01.2013</td>\n",
       "      <td>0</td>\n",
       "      <td>25</td>\n",
       "      <td>2552</td>\n",
       "      <td>899.00</td>\n",
       "      <td>-1.0</td>\n",
       "    </tr>\n",
       "    <tr>\n",
       "      <th>3</th>\n",
       "      <td>06.01.2013</td>\n",
       "      <td>0</td>\n",
       "      <td>25</td>\n",
       "      <td>2554</td>\n",
       "      <td>1709.05</td>\n",
       "      <td>1.0</td>\n",
       "    </tr>\n",
       "    <tr>\n",
       "      <th>4</th>\n",
       "      <td>15.01.2013</td>\n",
       "      <td>0</td>\n",
       "      <td>25</td>\n",
       "      <td>2555</td>\n",
       "      <td>1099.00</td>\n",
       "      <td>1.0</td>\n",
       "    </tr>\n",
       "    <tr>\n",
       "      <th>...</th>\n",
       "      <td>...</td>\n",
       "      <td>...</td>\n",
       "      <td>...</td>\n",
       "      <td>...</td>\n",
       "      <td>...</td>\n",
       "      <td>...</td>\n",
       "    </tr>\n",
       "    <tr>\n",
       "      <th>2935844</th>\n",
       "      <td>10.10.2015</td>\n",
       "      <td>33</td>\n",
       "      <td>25</td>\n",
       "      <td>7409</td>\n",
       "      <td>299.00</td>\n",
       "      <td>1.0</td>\n",
       "    </tr>\n",
       "    <tr>\n",
       "      <th>2935845</th>\n",
       "      <td>09.10.2015</td>\n",
       "      <td>33</td>\n",
       "      <td>25</td>\n",
       "      <td>7460</td>\n",
       "      <td>299.00</td>\n",
       "      <td>1.0</td>\n",
       "    </tr>\n",
       "    <tr>\n",
       "      <th>2935846</th>\n",
       "      <td>14.10.2015</td>\n",
       "      <td>33</td>\n",
       "      <td>25</td>\n",
       "      <td>7459</td>\n",
       "      <td>349.00</td>\n",
       "      <td>1.0</td>\n",
       "    </tr>\n",
       "    <tr>\n",
       "      <th>2935847</th>\n",
       "      <td>22.10.2015</td>\n",
       "      <td>33</td>\n",
       "      <td>25</td>\n",
       "      <td>7440</td>\n",
       "      <td>299.00</td>\n",
       "      <td>1.0</td>\n",
       "    </tr>\n",
       "    <tr>\n",
       "      <th>2935848</th>\n",
       "      <td>03.10.2015</td>\n",
       "      <td>33</td>\n",
       "      <td>25</td>\n",
       "      <td>7460</td>\n",
       "      <td>299.00</td>\n",
       "      <td>1.0</td>\n",
       "    </tr>\n",
       "  </tbody>\n",
       "</table>\n",
       "<p>2935849 rows × 6 columns</p>\n",
       "</div>"
      ],
      "text/plain": [
       "               date  date_block_num  shop_id  item_id  item_price  \\\n",
       "0        02.01.2013               0       59    22154      999.00   \n",
       "1        03.01.2013               0       25     2552      899.00   \n",
       "2        05.01.2013               0       25     2552      899.00   \n",
       "3        06.01.2013               0       25     2554     1709.05   \n",
       "4        15.01.2013               0       25     2555     1099.00   \n",
       "...             ...             ...      ...      ...         ...   \n",
       "2935844  10.10.2015              33       25     7409      299.00   \n",
       "2935845  09.10.2015              33       25     7460      299.00   \n",
       "2935846  14.10.2015              33       25     7459      349.00   \n",
       "2935847  22.10.2015              33       25     7440      299.00   \n",
       "2935848  03.10.2015              33       25     7460      299.00   \n",
       "\n",
       "         item_cnt_day  \n",
       "0                 1.0  \n",
       "1                 1.0  \n",
       "2                -1.0  \n",
       "3                 1.0  \n",
       "4                 1.0  \n",
       "...               ...  \n",
       "2935844           1.0  \n",
       "2935845           1.0  \n",
       "2935846           1.0  \n",
       "2935847           1.0  \n",
       "2935848           1.0  \n",
       "\n",
       "[2935849 rows x 6 columns]"
      ]
     },
     "execution_count": 12,
     "metadata": {},
     "output_type": "execute_result"
    }
   ],
   "source": [
    "new_data = d_sal_tra.copy()\n",
    "new_data"
   ]
  },
  {
   "cell_type": "code",
   "execution_count": 13,
   "metadata": {
    "execution": {
     "iopub.execute_input": "2022-09-21T09:08:02.392899Z",
     "iopub.status.busy": "2022-09-21T09:08:02.392568Z",
     "iopub.status.idle": "2022-09-21T09:08:02.424345Z",
     "shell.execute_reply": "2022-09-21T09:08:02.423356Z",
     "shell.execute_reply.started": "2022-09-21T09:08:02.392868Z"
    }
   },
   "outputs": [
    {
     "data": {
      "text/html": [
       "<div>\n",
       "<style scoped>\n",
       "    .dataframe tbody tr th:only-of-type {\n",
       "        vertical-align: middle;\n",
       "    }\n",
       "\n",
       "    .dataframe tbody tr th {\n",
       "        vertical-align: top;\n",
       "    }\n",
       "\n",
       "    .dataframe thead th {\n",
       "        text-align: right;\n",
       "    }\n",
       "</style>\n",
       "<table border=\"1\" class=\"dataframe\">\n",
       "  <thead>\n",
       "    <tr style=\"text-align: right;\">\n",
       "      <th></th>\n",
       "      <th>item_category_name</th>\n",
       "      <th>item_category_id</th>\n",
       "      <th>item_name</th>\n",
       "      <th>item_id</th>\n",
       "    </tr>\n",
       "  </thead>\n",
       "  <tbody>\n",
       "    <tr>\n",
       "      <th>0</th>\n",
       "      <td>PC - Гарнитуры/Наушники</td>\n",
       "      <td>0</td>\n",
       "      <td>PC: Гарнитура HyperX Cloud Core игровая стерео...</td>\n",
       "      <td>5441</td>\n",
       "    </tr>\n",
       "    <tr>\n",
       "      <th>1</th>\n",
       "      <td>PC - Гарнитуры/Наушники</td>\n",
       "      <td>0</td>\n",
       "      <td>Наушники PHILIPS SBC HC8680</td>\n",
       "      <td>16255</td>\n",
       "    </tr>\n",
       "    <tr>\n",
       "      <th>2</th>\n",
       "      <td>PC - Гарнитуры/Наушники</td>\n",
       "      <td>0</td>\n",
       "      <td>Наушники RITMIX RH-120</td>\n",
       "      <td>16256</td>\n",
       "    </tr>\n",
       "    <tr>\n",
       "      <th>3</th>\n",
       "      <td>PC - Гарнитуры/Наушники</td>\n",
       "      <td>0</td>\n",
       "      <td>Наушники RITMIX RH-124 Black</td>\n",
       "      <td>16257</td>\n",
       "    </tr>\n",
       "    <tr>\n",
       "      <th>4</th>\n",
       "      <td>Аксессуары - PS2</td>\n",
       "      <td>1</td>\n",
       "      <td>PS2: Карта памяти 8 Мб черная (Memory Card 8Mb...</td>\n",
       "      <td>5606</td>\n",
       "    </tr>\n",
       "    <tr>\n",
       "      <th>...</th>\n",
       "      <td>...</td>\n",
       "      <td>...</td>\n",
       "      <td>...</td>\n",
       "      <td>...</td>\n",
       "    </tr>\n",
       "    <tr>\n",
       "      <th>22165</th>\n",
       "      <td>Элементы питания</td>\n",
       "      <td>83</td>\n",
       "      <td>Элемент питания GP 15AU (LR6) - Блистер 2 шт U...</td>\n",
       "      <td>22095</td>\n",
       "    </tr>\n",
       "    <tr>\n",
       "      <th>22166</th>\n",
       "      <td>Элементы питания</td>\n",
       "      <td>83</td>\n",
       "      <td>Элемент питания GP 24A (LR03) - Блистер 2 шт</td>\n",
       "      <td>22096</td>\n",
       "    </tr>\n",
       "    <tr>\n",
       "      <th>22167</th>\n",
       "      <td>Элементы питания</td>\n",
       "      <td>83</td>\n",
       "      <td>Элемент питания GP 24AU (LR03) - Блистер 2 шт ...</td>\n",
       "      <td>22097</td>\n",
       "    </tr>\n",
       "    <tr>\n",
       "      <th>22168</th>\n",
       "      <td>Элементы питания</td>\n",
       "      <td>83</td>\n",
       "      <td>Элемент питания КОСМОС LR03 2*BL</td>\n",
       "      <td>22098</td>\n",
       "    </tr>\n",
       "    <tr>\n",
       "      <th>22169</th>\n",
       "      <td>Элементы питания</td>\n",
       "      <td>83</td>\n",
       "      <td>Элемент питания СТАРТ ZT 15A (LR6) - Блистер 2 шт</td>\n",
       "      <td>22099</td>\n",
       "    </tr>\n",
       "  </tbody>\n",
       "</table>\n",
       "<p>22170 rows × 4 columns</p>\n",
       "</div>"
      ],
      "text/plain": [
       "            item_category_name  item_category_id  \\\n",
       "0      PC - Гарнитуры/Наушники                 0   \n",
       "1      PC - Гарнитуры/Наушники                 0   \n",
       "2      PC - Гарнитуры/Наушники                 0   \n",
       "3      PC - Гарнитуры/Наушники                 0   \n",
       "4             Аксессуары - PS2                 1   \n",
       "...                        ...               ...   \n",
       "22165         Элементы питания                83   \n",
       "22166         Элементы питания                83   \n",
       "22167         Элементы питания                83   \n",
       "22168         Элементы питания                83   \n",
       "22169         Элементы питания                83   \n",
       "\n",
       "                                               item_name  item_id  \n",
       "0      PC: Гарнитура HyperX Cloud Core игровая стерео...     5441  \n",
       "1                            Наушники PHILIPS SBC HC8680    16255  \n",
       "2                                 Наушники RITMIX RH-120    16256  \n",
       "3                           Наушники RITMIX RH-124 Black    16257  \n",
       "4      PS2: Карта памяти 8 Мб черная (Memory Card 8Mb...     5606  \n",
       "...                                                  ...      ...  \n",
       "22165  Элемент питания GP 15AU (LR6) - Блистер 2 шт U...    22095  \n",
       "22166       Элемент питания GP 24A (LR03) - Блистер 2 шт    22096  \n",
       "22167  Элемент питания GP 24AU (LR03) - Блистер 2 шт ...    22097  \n",
       "22168                   Элемент питания КОСМОС LR03 2*BL    22098  \n",
       "22169  Элемент питания СТАРТ ZT 15A (LR6) - Блистер 2 шт    22099  \n",
       "\n",
       "[22170 rows x 4 columns]"
      ]
     },
     "execution_count": 13,
     "metadata": {},
     "output_type": "execute_result"
    }
   ],
   "source": [
    "new_data = pd.merge(d_item_cat,d_items,how = \"inner\",on=\"item_category_id\")\n",
    "new_data"
   ]
  },
  {
   "cell_type": "code",
   "execution_count": 14,
   "metadata": {
    "execution": {
     "iopub.execute_input": "2022-09-21T09:08:02.425900Z",
     "iopub.status.busy": "2022-09-21T09:08:02.425585Z",
     "iopub.status.idle": "2022-09-21T09:08:03.387261Z",
     "shell.execute_reply": "2022-09-21T09:08:03.386029Z",
     "shell.execute_reply.started": "2022-09-21T09:08:02.425871Z"
    }
   },
   "outputs": [
    {
     "data": {
      "text/html": [
       "<div>\n",
       "<style scoped>\n",
       "    .dataframe tbody tr th:only-of-type {\n",
       "        vertical-align: middle;\n",
       "    }\n",
       "\n",
       "    .dataframe tbody tr th {\n",
       "        vertical-align: top;\n",
       "    }\n",
       "\n",
       "    .dataframe thead th {\n",
       "        text-align: right;\n",
       "    }\n",
       "</style>\n",
       "<table border=\"1\" class=\"dataframe\">\n",
       "  <thead>\n",
       "    <tr style=\"text-align: right;\">\n",
       "      <th></th>\n",
       "      <th>item_category_name</th>\n",
       "      <th>item_category_id</th>\n",
       "      <th>item_name</th>\n",
       "      <th>item_id</th>\n",
       "      <th>date</th>\n",
       "      <th>date_block_num</th>\n",
       "      <th>shop_id</th>\n",
       "      <th>item_price</th>\n",
       "      <th>item_cnt_day</th>\n",
       "    </tr>\n",
       "  </thead>\n",
       "  <tbody>\n",
       "    <tr>\n",
       "      <th>0</th>\n",
       "      <td>PC - Гарнитуры/Наушники</td>\n",
       "      <td>0</td>\n",
       "      <td>Наушники PHILIPS SBC HC8680</td>\n",
       "      <td>16255</td>\n",
       "      <td>28.02.2013</td>\n",
       "      <td>1</td>\n",
       "      <td>0</td>\n",
       "      <td>93.0</td>\n",
       "      <td>1.0</td>\n",
       "    </tr>\n",
       "    <tr>\n",
       "      <th>1</th>\n",
       "      <td>PC - Гарнитуры/Наушники</td>\n",
       "      <td>0</td>\n",
       "      <td>Наушники RITMIX RH-120</td>\n",
       "      <td>16256</td>\n",
       "      <td>02.04.2013</td>\n",
       "      <td>3</td>\n",
       "      <td>38</td>\n",
       "      <td>22.4</td>\n",
       "      <td>1.0</td>\n",
       "    </tr>\n",
       "    <tr>\n",
       "      <th>2</th>\n",
       "      <td>PC - Гарнитуры/Наушники</td>\n",
       "      <td>0</td>\n",
       "      <td>Наушники RITMIX RH-124 Black</td>\n",
       "      <td>16257</td>\n",
       "      <td>10.01.2013</td>\n",
       "      <td>0</td>\n",
       "      <td>25</td>\n",
       "      <td>148.0</td>\n",
       "      <td>1.0</td>\n",
       "    </tr>\n",
       "    <tr>\n",
       "      <th>3</th>\n",
       "      <td>Аксессуары - PS2</td>\n",
       "      <td>1</td>\n",
       "      <td>PS2: Карта памяти 8 Мб черная (Memory Card 8Mb...</td>\n",
       "      <td>5606</td>\n",
       "      <td>10.01.2013</td>\n",
       "      <td>0</td>\n",
       "      <td>45</td>\n",
       "      <td>148.0</td>\n",
       "      <td>1.0</td>\n",
       "    </tr>\n",
       "    <tr>\n",
       "      <th>4</th>\n",
       "      <td>Аксессуары - PS2</td>\n",
       "      <td>1</td>\n",
       "      <td>Pelican. Геймпад Nerf Wireless Controller PS2 ...</td>\n",
       "      <td>5740</td>\n",
       "      <td>20.02.2013</td>\n",
       "      <td>1</td>\n",
       "      <td>0</td>\n",
       "      <td>283.0</td>\n",
       "      <td>1.0</td>\n",
       "    </tr>\n",
       "    <tr>\n",
       "      <th>...</th>\n",
       "      <td>...</td>\n",
       "      <td>...</td>\n",
       "      <td>...</td>\n",
       "      <td>...</td>\n",
       "      <td>...</td>\n",
       "      <td>...</td>\n",
       "      <td>...</td>\n",
       "      <td>...</td>\n",
       "      <td>...</td>\n",
       "    </tr>\n",
       "    <tr>\n",
       "      <th>2935844</th>\n",
       "      <td>Элементы питания</td>\n",
       "      <td>83</td>\n",
       "      <td>Элемент питания GP 24AU (LR03) - Блистер 2 шт ...</td>\n",
       "      <td>22097</td>\n",
       "      <td>12.07.2013</td>\n",
       "      <td>6</td>\n",
       "      <td>10</td>\n",
       "      <td>37.0</td>\n",
       "      <td>1.0</td>\n",
       "    </tr>\n",
       "    <tr>\n",
       "      <th>2935845</th>\n",
       "      <td>Элементы питания</td>\n",
       "      <td>83</td>\n",
       "      <td>Элемент питания КОСМОС LR03 2*BL</td>\n",
       "      <td>22098</td>\n",
       "      <td>11.12.2013</td>\n",
       "      <td>11</td>\n",
       "      <td>10</td>\n",
       "      <td>7.0</td>\n",
       "      <td>1.0</td>\n",
       "    </tr>\n",
       "    <tr>\n",
       "      <th>2935846</th>\n",
       "      <td>Элементы питания</td>\n",
       "      <td>83</td>\n",
       "      <td>Элемент питания СТАРТ ZT 15A (LR6) - Блистер 2 шт</td>\n",
       "      <td>22099</td>\n",
       "      <td>19.07.2013</td>\n",
       "      <td>6</td>\n",
       "      <td>2</td>\n",
       "      <td>40.0</td>\n",
       "      <td>1.0</td>\n",
       "    </tr>\n",
       "    <tr>\n",
       "      <th>2935847</th>\n",
       "      <td>Элементы питания</td>\n",
       "      <td>83</td>\n",
       "      <td>Элемент питания СТАРТ ZT 15A (LR6) - Блистер 2 шт</td>\n",
       "      <td>22099</td>\n",
       "      <td>20.11.2013</td>\n",
       "      <td>10</td>\n",
       "      <td>16</td>\n",
       "      <td>40.0</td>\n",
       "      <td>1.0</td>\n",
       "    </tr>\n",
       "    <tr>\n",
       "      <th>2935848</th>\n",
       "      <td>Элементы питания</td>\n",
       "      <td>83</td>\n",
       "      <td>Элемент питания СТАРТ ZT 15A (LR6) - Блистер 2 шт</td>\n",
       "      <td>22099</td>\n",
       "      <td>11.12.2013</td>\n",
       "      <td>11</td>\n",
       "      <td>10</td>\n",
       "      <td>23.0</td>\n",
       "      <td>1.0</td>\n",
       "    </tr>\n",
       "  </tbody>\n",
       "</table>\n",
       "<p>2935849 rows × 9 columns</p>\n",
       "</div>"
      ],
      "text/plain": [
       "              item_category_name  item_category_id  \\\n",
       "0        PC - Гарнитуры/Наушники                 0   \n",
       "1        PC - Гарнитуры/Наушники                 0   \n",
       "2        PC - Гарнитуры/Наушники                 0   \n",
       "3               Аксессуары - PS2                 1   \n",
       "4               Аксессуары - PS2                 1   \n",
       "...                          ...               ...   \n",
       "2935844         Элементы питания                83   \n",
       "2935845         Элементы питания                83   \n",
       "2935846         Элементы питания                83   \n",
       "2935847         Элементы питания                83   \n",
       "2935848         Элементы питания                83   \n",
       "\n",
       "                                                 item_name  item_id  \\\n",
       "0                              Наушники PHILIPS SBC HC8680    16255   \n",
       "1                                   Наушники RITMIX RH-120    16256   \n",
       "2                             Наушники RITMIX RH-124 Black    16257   \n",
       "3        PS2: Карта памяти 8 Мб черная (Memory Card 8Mb...     5606   \n",
       "4        Pelican. Геймпад Nerf Wireless Controller PS2 ...     5740   \n",
       "...                                                    ...      ...   \n",
       "2935844  Элемент питания GP 24AU (LR03) - Блистер 2 шт ...    22097   \n",
       "2935845                   Элемент питания КОСМОС LR03 2*BL    22098   \n",
       "2935846  Элемент питания СТАРТ ZT 15A (LR6) - Блистер 2 шт    22099   \n",
       "2935847  Элемент питания СТАРТ ZT 15A (LR6) - Блистер 2 шт    22099   \n",
       "2935848  Элемент питания СТАРТ ZT 15A (LR6) - Блистер 2 шт    22099   \n",
       "\n",
       "               date  date_block_num  shop_id  item_price  item_cnt_day  \n",
       "0        28.02.2013               1        0        93.0           1.0  \n",
       "1        02.04.2013               3       38        22.4           1.0  \n",
       "2        10.01.2013               0       25       148.0           1.0  \n",
       "3        10.01.2013               0       45       148.0           1.0  \n",
       "4        20.02.2013               1        0       283.0           1.0  \n",
       "...             ...             ...      ...         ...           ...  \n",
       "2935844  12.07.2013               6       10        37.0           1.0  \n",
       "2935845  11.12.2013              11       10         7.0           1.0  \n",
       "2935846  19.07.2013               6        2        40.0           1.0  \n",
       "2935847  20.11.2013              10       16        40.0           1.0  \n",
       "2935848  11.12.2013              11       10        23.0           1.0  \n",
       "\n",
       "[2935849 rows x 9 columns]"
      ]
     },
     "execution_count": 14,
     "metadata": {},
     "output_type": "execute_result"
    }
   ],
   "source": [
    "new_data = pd.merge(new_data,d_sal_tra,how = \"inner\",on=\"item_id\")\n",
    "new_data"
   ]
  },
  {
   "cell_type": "code",
   "execution_count": 15,
   "metadata": {
    "execution": {
     "iopub.execute_input": "2022-09-21T09:08:03.388697Z",
     "iopub.status.busy": "2022-09-21T09:08:03.388395Z",
     "iopub.status.idle": "2022-09-21T09:08:04.462032Z",
     "shell.execute_reply": "2022-09-21T09:08:04.460853Z",
     "shell.execute_reply.started": "2022-09-21T09:08:03.388670Z"
    }
   },
   "outputs": [
    {
     "data": {
      "text/html": [
       "<div>\n",
       "<style scoped>\n",
       "    .dataframe tbody tr th:only-of-type {\n",
       "        vertical-align: middle;\n",
       "    }\n",
       "\n",
       "    .dataframe tbody tr th {\n",
       "        vertical-align: top;\n",
       "    }\n",
       "\n",
       "    .dataframe thead th {\n",
       "        text-align: right;\n",
       "    }\n",
       "</style>\n",
       "<table border=\"1\" class=\"dataframe\">\n",
       "  <thead>\n",
       "    <tr style=\"text-align: right;\">\n",
       "      <th></th>\n",
       "      <th>item_category_name</th>\n",
       "      <th>item_category_id</th>\n",
       "      <th>item_name</th>\n",
       "      <th>item_id</th>\n",
       "      <th>date</th>\n",
       "      <th>date_block_num</th>\n",
       "      <th>shop_id</th>\n",
       "      <th>item_price</th>\n",
       "      <th>item_cnt_day</th>\n",
       "      <th>shop_name</th>\n",
       "    </tr>\n",
       "  </thead>\n",
       "  <tbody>\n",
       "    <tr>\n",
       "      <th>0</th>\n",
       "      <td>PC - Гарнитуры/Наушники</td>\n",
       "      <td>0</td>\n",
       "      <td>Наушники PHILIPS SBC HC8680</td>\n",
       "      <td>16255</td>\n",
       "      <td>28.02.2013</td>\n",
       "      <td>1</td>\n",
       "      <td>0</td>\n",
       "      <td>93.00</td>\n",
       "      <td>1.0</td>\n",
       "      <td>!Якутск Орджоникидзе, 56 фран</td>\n",
       "    </tr>\n",
       "    <tr>\n",
       "      <th>1</th>\n",
       "      <td>Аксессуары - PS2</td>\n",
       "      <td>1</td>\n",
       "      <td>Pelican. Геймпад Nerf Wireless Controller PS2 ...</td>\n",
       "      <td>5740</td>\n",
       "      <td>20.02.2013</td>\n",
       "      <td>1</td>\n",
       "      <td>0</td>\n",
       "      <td>283.00</td>\n",
       "      <td>1.0</td>\n",
       "      <td>!Якутск Орджоникидзе, 56 фран</td>\n",
       "    </tr>\n",
       "    <tr>\n",
       "      <th>2</th>\n",
       "      <td>Аксессуары - PS3</td>\n",
       "      <td>2</td>\n",
       "      <td>PS Move Controller (Контроллер движений)</td>\n",
       "      <td>5570</td>\n",
       "      <td>28.02.2013</td>\n",
       "      <td>1</td>\n",
       "      <td>0</td>\n",
       "      <td>93.00</td>\n",
       "      <td>1.0</td>\n",
       "      <td>!Якутск Орджоникидзе, 56 фран</td>\n",
       "    </tr>\n",
       "    <tr>\n",
       "      <th>3</th>\n",
       "      <td>Аксессуары - PS3</td>\n",
       "      <td>2</td>\n",
       "      <td>PS Move Motion Controller (Контроллер движений...</td>\n",
       "      <td>5572</td>\n",
       "      <td>04.01.2013</td>\n",
       "      <td>0</td>\n",
       "      <td>0</td>\n",
       "      <td>1322.00</td>\n",
       "      <td>3.0</td>\n",
       "      <td>!Якутск Орджоникидзе, 56 фран</td>\n",
       "    </tr>\n",
       "    <tr>\n",
       "      <th>4</th>\n",
       "      <td>Аксессуары - PS3</td>\n",
       "      <td>2</td>\n",
       "      <td>PS Move Motion Controller (Контроллер движений...</td>\n",
       "      <td>5572</td>\n",
       "      <td>05.01.2013</td>\n",
       "      <td>0</td>\n",
       "      <td>0</td>\n",
       "      <td>1322.00</td>\n",
       "      <td>2.0</td>\n",
       "      <td>!Якутск Орджоникидзе, 56 фран</td>\n",
       "    </tr>\n",
       "    <tr>\n",
       "      <th>...</th>\n",
       "      <td>...</td>\n",
       "      <td>...</td>\n",
       "      <td>...</td>\n",
       "      <td>...</td>\n",
       "      <td>...</td>\n",
       "      <td>...</td>\n",
       "      <td>...</td>\n",
       "      <td>...</td>\n",
       "      <td>...</td>\n",
       "      <td>...</td>\n",
       "    </tr>\n",
       "    <tr>\n",
       "      <th>2935844</th>\n",
       "      <td>Подарки - Фигурки</td>\n",
       "      <td>72</td>\n",
       "      <td>Фигурка Wolverine Marvel Classic Wolverine Hea...</td>\n",
       "      <td>20886</td>\n",
       "      <td>03.10.2014</td>\n",
       "      <td>21</td>\n",
       "      <td>20</td>\n",
       "      <td>1500.68</td>\n",
       "      <td>1.0</td>\n",
       "      <td>Москва \"Распродажа\"</td>\n",
       "    </tr>\n",
       "    <tr>\n",
       "      <th>2935845</th>\n",
       "      <td>Подарки - Фигурки</td>\n",
       "      <td>72</td>\n",
       "      <td>Фигурка Wolverine Marvel Classic Wolverine Hea...</td>\n",
       "      <td>20886</td>\n",
       "      <td>04.10.2014</td>\n",
       "      <td>21</td>\n",
       "      <td>20</td>\n",
       "      <td>1499.00</td>\n",
       "      <td>3.0</td>\n",
       "      <td>Москва \"Распродажа\"</td>\n",
       "    </tr>\n",
       "    <tr>\n",
       "      <th>2935846</th>\n",
       "      <td>Подарки - Фигурки</td>\n",
       "      <td>72</td>\n",
       "      <td>Фигурка Wolverine Marvel Classic Wolverine Hea...</td>\n",
       "      <td>20886</td>\n",
       "      <td>05.10.2014</td>\n",
       "      <td>21</td>\n",
       "      <td>20</td>\n",
       "      <td>1499.00</td>\n",
       "      <td>6.0</td>\n",
       "      <td>Москва \"Распродажа\"</td>\n",
       "    </tr>\n",
       "    <tr>\n",
       "      <th>2935847</th>\n",
       "      <td>Элементы питания</td>\n",
       "      <td>83</td>\n",
       "      <td>Элемент питания DURACELL LR06-BC2</td>\n",
       "      <td>22088</td>\n",
       "      <td>01.10.2015</td>\n",
       "      <td>33</td>\n",
       "      <td>20</td>\n",
       "      <td>119.00</td>\n",
       "      <td>1.0</td>\n",
       "      <td>Москва \"Распродажа\"</td>\n",
       "    </tr>\n",
       "    <tr>\n",
       "      <th>2935848</th>\n",
       "      <td>Элементы питания</td>\n",
       "      <td>83</td>\n",
       "      <td>Элемент питания DURACELL LR06-BC2</td>\n",
       "      <td>22088</td>\n",
       "      <td>02.10.2015</td>\n",
       "      <td>33</td>\n",
       "      <td>20</td>\n",
       "      <td>119.00</td>\n",
       "      <td>2.0</td>\n",
       "      <td>Москва \"Распродажа\"</td>\n",
       "    </tr>\n",
       "  </tbody>\n",
       "</table>\n",
       "<p>2935849 rows × 10 columns</p>\n",
       "</div>"
      ],
      "text/plain": [
       "              item_category_name  item_category_id  \\\n",
       "0        PC - Гарнитуры/Наушники                 0   \n",
       "1               Аксессуары - PS2                 1   \n",
       "2               Аксессуары - PS3                 2   \n",
       "3               Аксессуары - PS3                 2   \n",
       "4               Аксессуары - PS3                 2   \n",
       "...                          ...               ...   \n",
       "2935844        Подарки - Фигурки                72   \n",
       "2935845        Подарки - Фигурки                72   \n",
       "2935846        Подарки - Фигурки                72   \n",
       "2935847         Элементы питания                83   \n",
       "2935848         Элементы питания                83   \n",
       "\n",
       "                                                 item_name  item_id  \\\n",
       "0                              Наушники PHILIPS SBC HC8680    16255   \n",
       "1        Pelican. Геймпад Nerf Wireless Controller PS2 ...     5740   \n",
       "2                 PS Move Controller (Контроллер движений)     5570   \n",
       "3        PS Move Motion Controller (Контроллер движений...     5572   \n",
       "4        PS Move Motion Controller (Контроллер движений...     5572   \n",
       "...                                                    ...      ...   \n",
       "2935844  Фигурка Wolverine Marvel Classic Wolverine Hea...    20886   \n",
       "2935845  Фигурка Wolverine Marvel Classic Wolverine Hea...    20886   \n",
       "2935846  Фигурка Wolverine Marvel Classic Wolverine Hea...    20886   \n",
       "2935847                  Элемент питания DURACELL LR06-BC2    22088   \n",
       "2935848                  Элемент питания DURACELL LR06-BC2    22088   \n",
       "\n",
       "               date  date_block_num  shop_id  item_price  item_cnt_day  \\\n",
       "0        28.02.2013               1        0       93.00           1.0   \n",
       "1        20.02.2013               1        0      283.00           1.0   \n",
       "2        28.02.2013               1        0       93.00           1.0   \n",
       "3        04.01.2013               0        0     1322.00           3.0   \n",
       "4        05.01.2013               0        0     1322.00           2.0   \n",
       "...             ...             ...      ...         ...           ...   \n",
       "2935844  03.10.2014              21       20     1500.68           1.0   \n",
       "2935845  04.10.2014              21       20     1499.00           3.0   \n",
       "2935846  05.10.2014              21       20     1499.00           6.0   \n",
       "2935847  01.10.2015              33       20      119.00           1.0   \n",
       "2935848  02.10.2015              33       20      119.00           2.0   \n",
       "\n",
       "                             shop_name  \n",
       "0        !Якутск Орджоникидзе, 56 фран  \n",
       "1        !Якутск Орджоникидзе, 56 фран  \n",
       "2        !Якутск Орджоникидзе, 56 фран  \n",
       "3        !Якутск Орджоникидзе, 56 фран  \n",
       "4        !Якутск Орджоникидзе, 56 фран  \n",
       "...                                ...  \n",
       "2935844            Москва \"Распродажа\"  \n",
       "2935845            Москва \"Распродажа\"  \n",
       "2935846            Москва \"Распродажа\"  \n",
       "2935847            Москва \"Распродажа\"  \n",
       "2935848            Москва \"Распродажа\"  \n",
       "\n",
       "[2935849 rows x 10 columns]"
      ]
     },
     "execution_count": 15,
     "metadata": {},
     "output_type": "execute_result"
    }
   ],
   "source": [
    "new_data = pd.merge(new_data,d_shop,how = \"inner\",on=\"shop_id\")\n",
    "new_data"
   ]
  },
  {
   "cell_type": "code",
   "execution_count": 21,
   "metadata": {
    "execution": {
     "iopub.execute_input": "2022-09-21T09:11:09.799273Z",
     "iopub.status.busy": "2022-09-21T09:11:09.798845Z",
     "iopub.status.idle": "2022-09-21T09:11:09.835228Z",
     "shell.execute_reply": "2022-09-21T09:11:09.833920Z",
     "shell.execute_reply.started": "2022-09-21T09:11:09.799238Z"
    }
   },
   "outputs": [
    {
     "data": {
      "text/plain": [
       "(         shop_id  item_id\n",
       " 0              0    16255\n",
       " 1              0     5740\n",
       " 2              0     5570\n",
       " 3              0     5572\n",
       " 4              0     5572\n",
       " ...          ...      ...\n",
       " 2935844       20    20886\n",
       " 2935845       20    20886\n",
       " 2935846       20    20886\n",
       " 2935847       20    22088\n",
       " 2935848       20    22088\n",
       " \n",
       " [2935849 rows x 2 columns],\n",
       " 0          1.0\n",
       " 1          1.0\n",
       " 2          1.0\n",
       " 3          3.0\n",
       " 4          2.0\n",
       "           ... \n",
       " 2935844    1.0\n",
       " 2935845    3.0\n",
       " 2935846    6.0\n",
       " 2935847    1.0\n",
       " 2935848    2.0\n",
       " Name: item_cnt_day, Length: 2935849, dtype: float64)"
      ]
     },
     "execution_count": 21,
     "metadata": {},
     "output_type": "execute_result"
    }
   ],
   "source": [
    "dx = [\"shop_id\",\"item_id\"]\n",
    "x = new_data[dx]\n",
    "y = new_data[\"item_cnt_day\"]\n",
    "x,y"
   ]
  },
  {
   "cell_type": "markdown",
   "metadata": {},
   "source": [
    "**LinearRegression Model**"
   ]
  },
  {
   "cell_type": "code",
   "execution_count": null,
   "metadata": {
    "execution": {
     "iopub.status.busy": "2022-09-21T09:08:04.617304Z",
     "iopub.status.idle": "2022-09-21T09:08:04.617674Z",
     "shell.execute_reply": "2022-09-21T09:08:04.617510Z",
     "shell.execute_reply.started": "2022-09-21T09:08:04.617494Z"
    }
   },
   "outputs": [],
   "source": [
    "from sklearn.model_selection import train_test_split"
   ]
  },
  {
   "cell_type": "code",
   "execution_count": 31,
   "metadata": {
    "execution": {
     "iopub.execute_input": "2022-09-21T09:26:21.105307Z",
     "iopub.status.busy": "2022-09-21T09:26:21.104361Z",
     "iopub.status.idle": "2022-09-21T09:26:21.582269Z",
     "shell.execute_reply": "2022-09-21T09:26:21.581103Z",
     "shell.execute_reply.started": "2022-09-21T09:26:21.105254Z"
    }
   },
   "outputs": [
    {
     "data": {
      "text/plain": [
       "((2055094, 2), (880755, 2), (2055094,), (880755,))"
      ]
     },
     "execution_count": 31,
     "metadata": {},
     "output_type": "execute_result"
    }
   ],
   "source": [
    "x_train,x_test,y_train,y_test = train_test_split(x,y,test_size = 0.3,random_state = 20)\n",
    "x_train.shape,x_test.shape,y_train.shape,y_test.shape"
   ]
  },
  {
   "cell_type": "code",
   "execution_count": 24,
   "metadata": {
    "execution": {
     "iopub.execute_input": "2022-09-21T09:15:58.453959Z",
     "iopub.status.busy": "2022-09-21T09:15:58.453508Z",
     "iopub.status.idle": "2022-09-21T09:15:58.459494Z",
     "shell.execute_reply": "2022-09-21T09:15:58.458346Z",
     "shell.execute_reply.started": "2022-09-21T09:15:58.453922Z"
    }
   },
   "outputs": [],
   "source": [
    "from sklearn.linear_model import LinearRegression"
   ]
  },
  {
   "cell_type": "code",
   "execution_count": 25,
   "metadata": {
    "execution": {
     "iopub.execute_input": "2022-09-21T09:16:29.285180Z",
     "iopub.status.busy": "2022-09-21T09:16:29.284727Z",
     "iopub.status.idle": "2022-09-21T09:16:29.290860Z",
     "shell.execute_reply": "2022-09-21T09:16:29.289995Z",
     "shell.execute_reply.started": "2022-09-21T09:16:29.285145Z"
    }
   },
   "outputs": [],
   "source": [
    "lr = LinearRegression()"
   ]
  },
  {
   "cell_type": "code",
   "execution_count": 26,
   "metadata": {
    "execution": {
     "iopub.execute_input": "2022-09-21T09:17:44.093947Z",
     "iopub.status.busy": "2022-09-21T09:17:44.093551Z",
     "iopub.status.idle": "2022-09-21T09:17:44.253508Z",
     "shell.execute_reply": "2022-09-21T09:17:44.252370Z",
     "shell.execute_reply.started": "2022-09-21T09:17:44.093915Z"
    }
   },
   "outputs": [
    {
     "data": {
      "text/plain": [
       "LinearRegression()"
      ]
     },
     "execution_count": 26,
     "metadata": {},
     "output_type": "execute_result"
    }
   ],
   "source": [
    "lr.fit(x_train,y_train)"
   ]
  },
  {
   "cell_type": "code",
   "execution_count": 32,
   "metadata": {
    "execution": {
     "iopub.execute_input": "2022-09-21T09:27:55.614241Z",
     "iopub.status.busy": "2022-09-21T09:27:55.612916Z",
     "iopub.status.idle": "2022-09-21T09:27:55.647367Z",
     "shell.execute_reply": "2022-09-21T09:27:55.645891Z",
     "shell.execute_reply.started": "2022-09-21T09:27:55.614190Z"
    }
   },
   "outputs": [
    {
     "data": {
      "text/plain": [
       "array([1.27026309, 1.29404548, 1.25485036, ..., 1.31072014, 1.21822287,\n",
       "       1.2413382 ])"
      ]
     },
     "execution_count": 32,
     "metadata": {},
     "output_type": "execute_result"
    }
   ],
   "source": [
    "pred = lr.predict(x_test)\n",
    "pred"
   ]
  },
  {
   "cell_type": "code",
   "execution_count": 33,
   "metadata": {
    "execution": {
     "iopub.execute_input": "2022-09-21T09:27:57.914683Z",
     "iopub.status.busy": "2022-09-21T09:27:57.914011Z",
     "iopub.status.idle": "2022-09-21T09:27:57.919347Z",
     "shell.execute_reply": "2022-09-21T09:27:57.918278Z",
     "shell.execute_reply.started": "2022-09-21T09:27:57.914649Z"
    }
   },
   "outputs": [],
   "source": [
    "from sklearn.metrics import mean_absolute_error,mean_squared_error,r2_score"
   ]
  },
  {
   "cell_type": "code",
   "execution_count": 34,
   "metadata": {
    "execution": {
     "iopub.execute_input": "2022-09-21T09:27:59.085961Z",
     "iopub.status.busy": "2022-09-21T09:27:59.085522Z",
     "iopub.status.idle": "2022-09-21T09:27:59.102390Z",
     "shell.execute_reply": "2022-09-21T09:27:59.101248Z",
     "shell.execute_reply.started": "2022-09-21T09:27:59.085922Z"
    }
   },
   "outputs": [
    {
     "data": {
      "text/plain": [
       "0.0002462216265555206"
      ]
     },
     "execution_count": 34,
     "metadata": {},
     "output_type": "execute_result"
    }
   ],
   "source": [
    "r2_score(y_test,pred)"
   ]
  },
  {
   "cell_type": "code",
   "execution_count": 35,
   "metadata": {
    "execution": {
     "iopub.execute_input": "2022-09-21T09:29:18.327120Z",
     "iopub.status.busy": "2022-09-21T09:29:18.326714Z",
     "iopub.status.idle": "2022-09-21T09:29:18.427350Z",
     "shell.execute_reply": "2022-09-21T09:29:18.425756Z",
     "shell.execute_reply.started": "2022-09-21T09:29:18.327087Z"
    }
   },
   "outputs": [
    {
     "data": {
      "text/plain": [
       "0.00035827763633455856"
      ]
     },
     "execution_count": 35,
     "metadata": {},
     "output_type": "execute_result"
    }
   ],
   "source": [
    "r2_score(y_train,lr.predict(x_train))"
   ]
  },
  {
   "cell_type": "code",
   "execution_count": 48,
   "metadata": {
    "execution": {
     "iopub.execute_input": "2022-09-21T09:57:24.647423Z",
     "iopub.status.busy": "2022-09-21T09:57:24.647024Z",
     "iopub.status.idle": "2022-09-21T09:57:24.661824Z",
     "shell.execute_reply": "2022-09-21T09:57:24.659133Z",
     "shell.execute_reply.started": "2022-09-21T09:57:24.647390Z"
    }
   },
   "outputs": [],
   "source": [
    "test_data = lr.predict(dt_test)"
   ]
  },
  {
   "cell_type": "code",
   "execution_count": 49,
   "metadata": {
    "execution": {
     "iopub.execute_input": "2022-09-21T09:57:34.486612Z",
     "iopub.status.busy": "2022-09-21T09:57:34.485475Z",
     "iopub.status.idle": "2022-09-21T09:57:34.494107Z",
     "shell.execute_reply": "2022-09-21T09:57:34.492834Z",
     "shell.execute_reply.started": "2022-09-21T09:57:34.486571Z"
    }
   },
   "outputs": [
    {
     "data": {
      "text/plain": [
       "array([1.23018628, 1.23209938, 1.23151125, ..., 1.26982918, 1.29613261,\n",
       "       1.16986128])"
      ]
     },
     "execution_count": 49,
     "metadata": {},
     "output_type": "execute_result"
    }
   ],
   "source": [
    "test_data"
   ]
  },
  {
   "cell_type": "markdown",
   "metadata": {},
   "source": [
    "**Output**"
   ]
  },
  {
   "cell_type": "code",
   "execution_count": 51,
   "metadata": {
    "execution": {
     "iopub.execute_input": "2022-09-21T10:04:15.060731Z",
     "iopub.status.busy": "2022-09-21T10:04:15.060161Z",
     "iopub.status.idle": "2022-09-21T10:04:15.080301Z",
     "shell.execute_reply": "2022-09-21T10:04:15.079000Z",
     "shell.execute_reply.started": "2022-09-21T10:04:15.060681Z"
    }
   },
   "outputs": [
    {
     "data": {
      "text/html": [
       "<div>\n",
       "<style scoped>\n",
       "    .dataframe tbody tr th:only-of-type {\n",
       "        vertical-align: middle;\n",
       "    }\n",
       "\n",
       "    .dataframe tbody tr th {\n",
       "        vertical-align: top;\n",
       "    }\n",
       "\n",
       "    .dataframe thead th {\n",
       "        text-align: right;\n",
       "    }\n",
       "</style>\n",
       "<table border=\"1\" class=\"dataframe\">\n",
       "  <thead>\n",
       "    <tr style=\"text-align: right;\">\n",
       "      <th></th>\n",
       "      <th>ID</th>\n",
       "      <th>item_cnt_month</th>\n",
       "    </tr>\n",
       "  </thead>\n",
       "  <tbody>\n",
       "    <tr>\n",
       "      <th>0</th>\n",
       "      <td>0</td>\n",
       "      <td>1.230186</td>\n",
       "    </tr>\n",
       "    <tr>\n",
       "      <th>1</th>\n",
       "      <td>1</td>\n",
       "      <td>1.232099</td>\n",
       "    </tr>\n",
       "    <tr>\n",
       "      <th>2</th>\n",
       "      <td>2</td>\n",
       "      <td>1.231511</td>\n",
       "    </tr>\n",
       "    <tr>\n",
       "      <th>3</th>\n",
       "      <td>3</td>\n",
       "      <td>1.231504</td>\n",
       "    </tr>\n",
       "    <tr>\n",
       "      <th>4</th>\n",
       "      <td>4</td>\n",
       "      <td>1.231748</td>\n",
       "    </tr>\n",
       "    <tr>\n",
       "      <th>...</th>\n",
       "      <td>...</td>\n",
       "      <td>...</td>\n",
       "    </tr>\n",
       "    <tr>\n",
       "      <th>214195</th>\n",
       "      <td>214195</td>\n",
       "      <td>1.288061</td>\n",
       "    </tr>\n",
       "    <tr>\n",
       "      <th>214196</th>\n",
       "      <td>214196</td>\n",
       "      <td>1.272743</td>\n",
       "    </tr>\n",
       "    <tr>\n",
       "      <th>214197</th>\n",
       "      <td>214197</td>\n",
       "      <td>1.269829</td>\n",
       "    </tr>\n",
       "    <tr>\n",
       "      <th>214198</th>\n",
       "      <td>214198</td>\n",
       "      <td>1.296133</td>\n",
       "    </tr>\n",
       "    <tr>\n",
       "      <th>214199</th>\n",
       "      <td>214199</td>\n",
       "      <td>1.169861</td>\n",
       "    </tr>\n",
       "  </tbody>\n",
       "</table>\n",
       "<p>214200 rows × 2 columns</p>\n",
       "</div>"
      ],
      "text/plain": [
       "            ID  item_cnt_month\n",
       "0            0        1.230186\n",
       "1            1        1.232099\n",
       "2            2        1.231511\n",
       "3            3        1.231504\n",
       "4            4        1.231748\n",
       "...        ...             ...\n",
       "214195  214195        1.288061\n",
       "214196  214196        1.272743\n",
       "214197  214197        1.269829\n",
       "214198  214198        1.296133\n",
       "214199  214199        1.169861\n",
       "\n",
       "[214200 rows x 2 columns]"
      ]
     },
     "execution_count": 51,
     "metadata": {},
     "output_type": "execute_result"
    }
   ],
   "source": [
    "sub = pd.DataFrame({'ID':d_test.ID.values, 'item_cnt_month':test_data})\n",
    "sub"
   ]
  },
  {
   "cell_type": "markdown",
   "metadata": {},
   "source": [
    "**XGBRegressor Model**"
   ]
  },
  {
   "cell_type": "code",
   "execution_count": 54,
   "metadata": {
    "execution": {
     "iopub.execute_input": "2022-09-21T10:11:06.946858Z",
     "iopub.status.busy": "2022-09-21T10:11:06.945831Z",
     "iopub.status.idle": "2022-09-21T10:11:06.952520Z",
     "shell.execute_reply": "2022-09-21T10:11:06.951408Z",
     "shell.execute_reply.started": "2022-09-21T10:11:06.946792Z"
    }
   },
   "outputs": [],
   "source": [
    "from xgboost import XGBRegressor\n",
    "xgb = XGBRegressor(subsample= 1,max_depth=5,learning_rate=0.05,gamma=1,reg_alpha=10,n_estimators=150,colsample_bylevel=1)"
   ]
  },
  {
   "cell_type": "code",
   "execution_count": 55,
   "metadata": {
    "execution": {
     "iopub.execute_input": "2022-09-21T10:11:30.831485Z",
     "iopub.status.busy": "2022-09-21T10:11:30.830262Z",
     "iopub.status.idle": "2022-09-21T10:12:40.957820Z",
     "shell.execute_reply": "2022-09-21T10:12:40.957011Z",
     "shell.execute_reply.started": "2022-09-21T10:11:30.831428Z"
    }
   },
   "outputs": [
    {
     "data": {
      "text/plain": [
       "XGBRegressor(base_score=0.5, booster='gbtree', callbacks=None,\n",
       "             colsample_bylevel=1, colsample_bynode=1, colsample_bytree=1,\n",
       "             early_stopping_rounds=None, enable_categorical=False,\n",
       "             eval_metric=None, gamma=1, gpu_id=-1, grow_policy='depthwise',\n",
       "             importance_type=None, interaction_constraints='',\n",
       "             learning_rate=0.05, max_bin=256, max_cat_to_onehot=4,\n",
       "             max_delta_step=0, max_depth=5, max_leaves=0, min_child_weight=1,\n",
       "             missing=nan, monotone_constraints='()', n_estimators=150, n_jobs=0,\n",
       "             num_parallel_tree=1, predictor='auto', random_state=0,\n",
       "             reg_alpha=10, reg_lambda=1, ...)"
      ]
     },
     "execution_count": 55,
     "metadata": {},
     "output_type": "execute_result"
    }
   ],
   "source": [
    "xgb.fit(x_train,y_train)"
   ]
  },
  {
   "cell_type": "code",
   "execution_count": 57,
   "metadata": {
    "execution": {
     "iopub.execute_input": "2022-09-21T10:13:48.333821Z",
     "iopub.status.busy": "2022-09-21T10:13:48.333421Z",
     "iopub.status.idle": "2022-09-21T10:13:49.287530Z",
     "shell.execute_reply": "2022-09-21T10:13:49.286558Z",
     "shell.execute_reply.started": "2022-09-21T10:13:48.333772Z"
    }
   },
   "outputs": [
    {
     "data": {
      "text/plain": [
       "array([1.0997641, 1.3817836, 1.0910659, ..., 1.1039033, 1.137784 ,\n",
       "       1.1551332], dtype=float32)"
      ]
     },
     "execution_count": 57,
     "metadata": {},
     "output_type": "execute_result"
    }
   ],
   "source": [
    "pred1 = xgb.predict(x_test)\n",
    "pred1"
   ]
  },
  {
   "cell_type": "code",
   "execution_count": 58,
   "metadata": {
    "execution": {
     "iopub.execute_input": "2022-09-21T10:14:20.103213Z",
     "iopub.status.busy": "2022-09-21T10:14:20.102769Z",
     "iopub.status.idle": "2022-09-21T10:14:20.121701Z",
     "shell.execute_reply": "2022-09-21T10:14:20.120869Z",
     "shell.execute_reply.started": "2022-09-21T10:14:20.103181Z"
    }
   },
   "outputs": [
    {
     "data": {
      "text/plain": [
       "0.11118755025637483"
      ]
     },
     "execution_count": 58,
     "metadata": {},
     "output_type": "execute_result"
    }
   ],
   "source": [
    "r2_score(y_test,pred1)"
   ]
  },
  {
   "cell_type": "code",
   "execution_count": 59,
   "metadata": {
    "execution": {
     "iopub.execute_input": "2022-09-21T10:15:59.656429Z",
     "iopub.status.busy": "2022-09-21T10:15:59.655555Z",
     "iopub.status.idle": "2022-09-21T10:16:01.909276Z",
     "shell.execute_reply": "2022-09-21T10:16:01.908186Z",
     "shell.execute_reply.started": "2022-09-21T10:15:59.656393Z"
    }
   },
   "outputs": [
    {
     "data": {
      "text/plain": [
       "0.1649255581668897"
      ]
     },
     "execution_count": 59,
     "metadata": {},
     "output_type": "execute_result"
    }
   ],
   "source": [
    "r2_score(y_train,xgb.predict(x_train))"
   ]
  },
  {
   "cell_type": "code",
   "execution_count": 62,
   "metadata": {
    "execution": {
     "iopub.execute_input": "2022-09-21T10:19:11.225663Z",
     "iopub.status.busy": "2022-09-21T10:19:11.225273Z",
     "iopub.status.idle": "2022-09-21T10:19:11.466413Z",
     "shell.execute_reply": "2022-09-21T10:19:11.465496Z",
     "shell.execute_reply.started": "2022-09-21T10:19:11.225612Z"
    }
   },
   "outputs": [
    {
     "data": {
      "text/plain": [
       "array([1.0867535, 1.0867535, 1.0867535, ..., 1.0708563, 1.0612885,\n",
       "       1.0259292], dtype=float32)"
      ]
     },
     "execution_count": 62,
     "metadata": {},
     "output_type": "execute_result"
    }
   ],
   "source": [
    "test_data1 = xgb.predict(dt_test)\n",
    "test_data1"
   ]
  },
  {
   "cell_type": "code",
   "execution_count": 63,
   "metadata": {
    "execution": {
     "iopub.execute_input": "2022-09-21T10:19:45.800672Z",
     "iopub.status.busy": "2022-09-21T10:19:45.800227Z",
     "iopub.status.idle": "2022-09-21T10:19:45.816466Z",
     "shell.execute_reply": "2022-09-21T10:19:45.815206Z",
     "shell.execute_reply.started": "2022-09-21T10:19:45.800622Z"
    }
   },
   "outputs": [
    {
     "data": {
      "text/html": [
       "<div>\n",
       "<style scoped>\n",
       "    .dataframe tbody tr th:only-of-type {\n",
       "        vertical-align: middle;\n",
       "    }\n",
       "\n",
       "    .dataframe tbody tr th {\n",
       "        vertical-align: top;\n",
       "    }\n",
       "\n",
       "    .dataframe thead th {\n",
       "        text-align: right;\n",
       "    }\n",
       "</style>\n",
       "<table border=\"1\" class=\"dataframe\">\n",
       "  <thead>\n",
       "    <tr style=\"text-align: right;\">\n",
       "      <th></th>\n",
       "      <th>ID</th>\n",
       "      <th>item_cnt_month</th>\n",
       "    </tr>\n",
       "  </thead>\n",
       "  <tbody>\n",
       "    <tr>\n",
       "      <th>0</th>\n",
       "      <td>0</td>\n",
       "      <td>1.086753</td>\n",
       "    </tr>\n",
       "    <tr>\n",
       "      <th>1</th>\n",
       "      <td>1</td>\n",
       "      <td>1.086753</td>\n",
       "    </tr>\n",
       "    <tr>\n",
       "      <th>2</th>\n",
       "      <td>2</td>\n",
       "      <td>1.086753</td>\n",
       "    </tr>\n",
       "    <tr>\n",
       "      <th>3</th>\n",
       "      <td>3</td>\n",
       "      <td>1.086753</td>\n",
       "    </tr>\n",
       "    <tr>\n",
       "      <th>4</th>\n",
       "      <td>4</td>\n",
       "      <td>1.086753</td>\n",
       "    </tr>\n",
       "    <tr>\n",
       "      <th>...</th>\n",
       "      <td>...</td>\n",
       "      <td>...</td>\n",
       "    </tr>\n",
       "    <tr>\n",
       "      <th>214195</th>\n",
       "      <td>214195</td>\n",
       "      <td>1.037218</td>\n",
       "    </tr>\n",
       "    <tr>\n",
       "      <th>214196</th>\n",
       "      <td>214196</td>\n",
       "      <td>1.079832</td>\n",
       "    </tr>\n",
       "    <tr>\n",
       "      <th>214197</th>\n",
       "      <td>214197</td>\n",
       "      <td>1.070856</td>\n",
       "    </tr>\n",
       "    <tr>\n",
       "      <th>214198</th>\n",
       "      <td>214198</td>\n",
       "      <td>1.061288</td>\n",
       "    </tr>\n",
       "    <tr>\n",
       "      <th>214199</th>\n",
       "      <td>214199</td>\n",
       "      <td>1.025929</td>\n",
       "    </tr>\n",
       "  </tbody>\n",
       "</table>\n",
       "<p>214200 rows × 2 columns</p>\n",
       "</div>"
      ],
      "text/plain": [
       "            ID  item_cnt_month\n",
       "0            0        1.086753\n",
       "1            1        1.086753\n",
       "2            2        1.086753\n",
       "3            3        1.086753\n",
       "4            4        1.086753\n",
       "...        ...             ...\n",
       "214195  214195        1.037218\n",
       "214196  214196        1.079832\n",
       "214197  214197        1.070856\n",
       "214198  214198        1.061288\n",
       "214199  214199        1.025929\n",
       "\n",
       "[214200 rows x 2 columns]"
      ]
     },
     "execution_count": 63,
     "metadata": {},
     "output_type": "execute_result"
    }
   ],
   "source": [
    "sub1 = pd.DataFrame({'ID':d_test.ID.values, 'item_cnt_month':test_data1})\n",
    "sub1"
   ]
  },
  {
   "cell_type": "code",
   "execution_count": null,
   "metadata": {},
   "outputs": [],
   "source": []
  }
 ],
 "metadata": {
  "kernelspec": {
   "display_name": "Python 3 (ipykernel)",
   "language": "python",
   "name": "python3"
  },
  "language_info": {
   "codemirror_mode": {
    "name": "ipython",
    "version": 3
   },
   "file_extension": ".py",
   "mimetype": "text/x-python",
   "name": "python",
   "nbconvert_exporter": "python",
   "pygments_lexer": "ipython3",
   "version": "3.9.12"
  }
 },
 "nbformat": 4,
 "nbformat_minor": 4
}
